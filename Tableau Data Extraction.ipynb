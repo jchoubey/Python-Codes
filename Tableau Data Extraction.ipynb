{
 "cells": [
  {
   "cell_type": "code",
   "execution_count": 155,
   "metadata": {},
   "outputs": [
    {
     "name": "stdout",
     "output_type": "stream",
     "text": [
      "present\n"
     ]
    }
   ],
   "source": [
    "import importlib.util\n",
    "\n",
    "# For illustrative purposes.\n",
    "package_name = 'selenium'\n",
    "\n",
    "spec = importlib.util.find_spec(package_name)\n",
    "if spec is None:\n",
    "    print(package_name +\" is not installed\")\n",
    "else:\n",
    "    print(\"present\")"
   ]
  },
  {
   "cell_type": "code",
   "execution_count": 156,
   "metadata": {},
   "outputs": [],
   "source": [
    "from selenium import webdriver\n",
    "from selenium.webdriver.support.ui import Select\n",
    "from selenium.webdriver.common.keys import Keys\n",
    "from selenium.webdriver.common.action_chains import ActionChains\n",
    "from selenium.webdriver.support.ui import WebDriverWait\n",
    "from selenium.webdriver.support.expected_conditions import staleness_of\n",
    "from selenium.webdriver.support import expected_conditions as EC\n",
    "from selenium.webdriver.common.by import By\n",
    "import time\n",
    "import os"
   ]
  },
  {
   "cell_type": "code",
   "execution_count": 157,
   "metadata": {},
   "outputs": [],
   "source": [
    "options = webdriver.ChromeOptions()\n",
    "options.add_argument('--disable-logging')\n",
    "options.add_argument('--disable-extensions')\n",
    "options.add_argument(\"--log-level=3\")\n",
    "options.add_experimental_option('useAutomationExtension', False)\n",
    "\n",
    "driver = webdriver.Chrome('C:\\\\Users\\\\CHOUBJU1\\\\OneDrive - Novartis Pharma AG\\\\Desktop\\\\Raunak Tableau Views Analysis\\\\'+'chromedriver.exe',options=options)\n",
    "driver.get('https://tableauus.novartis.net/#/site/Cosentyx_Analytics_US/analysis/TraffictoViews')\n"
   ]
  },
  {
   "cell_type": "code",
   "execution_count": 158,
   "metadata": {
    "scrolled": true
   },
   "outputs": [],
   "source": [
    "iframe = driver.find_element(By.XPATH, \"//*[@id='ng-app']/div/div/div/div[1]/div/div[2]/div/div/iframe\")\n",
    "driver.switch_to.frame(iframe)\n",
    "time.sleep(5)"
   ]
  },
  {
   "cell_type": "code",
   "execution_count": 160,
   "metadata": {},
   "outputs": [],
   "source": [
    "for i in [1,3,4,5,7,8,11,12,14]:\n",
    "    driver.find_element_by_xpath(\"//*[@id='tableau_base_widget_LegacyCategoricalQuickFilter_1']/div/div[3]/span/div[1]\").click()\n",
    "    time.sleep(5)\n",
    "    driver.find_element_by_xpath(\"//*[@id='tableau_base_widget_LegacyCategoricalQuickFilter_1_menu']/div[2]/div[1]\").click()\n",
    "    time.sleep(8)\n",
    "    driver.find_element_by_xpath(\"//*[@id='tableau_base_widget_LegacyCategoricalQuickFilter_0']/div/div[3]/span/div[1]\").click()\n",
    "    time.sleep(5)\n",
    "    element_i = driver.find_element_by_xpath(\"//*[@id='tableau_base_widget_LegacyCategoricalQuickFilter_0_menu']/div[2]/div[2]/div/div[{}]\".format(i))\n",
    "    i_name = element_i.text\n",
    "    element_i.click()\n",
    "    time.sleep(8)\n",
    "    \n",
    "    if i == 1:\n",
    "        j=[*range(1,8)]\n",
    "    elif i in [3,4]:\n",
    "        j=[*range(1,7)]\n",
    "    elif i in [5,14]:\n",
    "        j=[*range(1,4)]\n",
    "    elif i in [7,11,12]:\n",
    "        j=[*range(1,5)]\n",
    "    else:\n",
    "        j=[*range(1,3)]\n",
    "    \n",
    "    for j in range(1,len(j)+1):\n",
    "        driver.find_element_by_xpath(\"//*[@id='tableau_base_widget_LegacyCategoricalQuickFilter_1']/div/div[3]/span/div[1]\").click()\n",
    "        time.sleep(5)\n",
    "        element_j = driver.find_element_by_xpath(\"//*[@id='tableau_base_widget_LegacyCategoricalQuickFilter_1_menu']/div[2]/div[2]/div/div[{}]\".format(j))\n",
    "        j_name = element_j.text\n",
    "        element_j.click()\n",
    "        time.sleep(8)\n",
    "        \n",
    "        driver.find_element_by_xpath(\"//*[@id='title8284168537747383960_17758038251107082819']/div[1]/div/span/div\").click()\n",
    "        time.sleep(5)\n",
    "        driver.find_element_by_xpath(\"//*[@id='toolbar-container']/div[1]/div[2]/div[1]/span[2]\").click()\n",
    "        time.sleep(5)\n",
    "        driver.find_element_by_xpath(\"//*[@id='DownloadDialog-Dialog-Body-Id']/div/div[3]\").click()\n",
    "        time.sleep(5)\n",
    "        driver.find_element_by_xpath(\"/html/body/div[8]/div/div/div/div/div[3]/div/div/div[2]/a\").click()\n",
    "        time.sleep(5)\n",
    "        \n",
    "        os.chdir(\"C:\\\\Users\\\\CHOUBJU1\\\\Downloads\")\n",
    "        os.rename('View_Count_Per_Person_crosstab.csv', 'View_Count_Per_Person_crosstab_{}_{}.csv'.format(i_name, j_name))\n",
    "        "
   ]
  }
 ],
 "metadata": {
  "kernelspec": {
   "display_name": "Python 3",
   "language": "python",
   "name": "python3"
  },
  "language_info": {
   "codemirror_mode": {
    "name": "ipython",
    "version": 3
   },
   "file_extension": ".py",
   "mimetype": "text/x-python",
   "name": "python",
   "nbconvert_exporter": "python",
   "pygments_lexer": "ipython3",
   "version": "3.7.4"
  }
 },
 "nbformat": 4,
 "nbformat_minor": 2
}
